{
 "cells": [
  {
   "cell_type": "code",
   "execution_count": null,
   "metadata": {},
   "outputs": [],
   "source": [
    "import numpy as np\n",
    "import pandas as pd"
   ]
  },
  {
   "cell_type": "code",
   "execution_count": null,
   "metadata": {},
   "outputs": [],
   "source": [
    "class ILS():\n",
    "    \n",
    "    def _init__(self, n_clusters = None, min_cluster_size = None, metric = euc_metric):\n",
    "        \n",
    "        self.n_clusters = n_cluster\n",
    "        self.min_cluster_size = min_cluster_size\n",
    "        self.metric = euc_metric #this should be a function that takes two 1-D arrays\n",
    "        \n",
    "    def fit(self, X):\n",
    "        \n",
    "    def find_peaks(self, r_min):\n",
    "        '''\n",
    "        INPUTS:\n",
    "            r_min = list of distances between points\n",
    "        OUTPUTS:\n",
    "            ind = index of points at which peaks occur\n",
    "        '''\n",
    "        return ind\n",
    "    \n",
    "    def find_initial_point(self, data_set):\n",
    "        \n",
    "        return labelled_point, unlabelled_points\n",
    "    \n",
    "    def \n",
    "    \n",
    "    def label_spreading(self, labelled_points, unlabelled_points):\n",
    "        '''\n",
    "        Applies iterative label spreading to the given points\n",
    "        INPUTS:\n",
    "            labelled_points = initial points that are already labelled\n",
    "                2D array with last column the points label\n",
    "            unlabelled_points = points in the data set that are not labelled\n",
    "                2D array with last column the points label (0)\n",
    "        '''"
   ]
  }
 ],
 "metadata": {
  "kernelspec": {
   "display_name": "Python 3 (ipykernel)",
   "language": "python",
   "name": "python3"
  },
  "language_info": {
   "codemirror_mode": {
    "name": "ipython",
    "version": 3
   },
   "file_extension": ".py",
   "mimetype": "text/x-python",
   "name": "python",
   "nbconvert_exporter": "python",
   "pygments_lexer": "ipython3",
   "version": "3.9.7"
  }
 },
 "nbformat": 4,
 "nbformat_minor": 4
}
