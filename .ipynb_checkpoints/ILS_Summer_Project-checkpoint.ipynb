{
 "cells": [
  {
   "cell_type": "code",
   "execution_count": 4,
   "metadata": {},
   "outputs": [],
   "source": [
    "import numpy as np\n",
    "import pandas as pd\n",
    "from sklearn.metrics.pairwise import pairwise_distances ##if package published in Sklearn, do not need to import"
   ]
  },
  {
   "cell_type": "code",
   "execution_count": null,
   "metadata": {},
   "outputs": [],
   "source": [
    "class ILS():\n",
    "    \n",
    "    def _init__(self, n_clusters = None, min_cluster_size = None, metric = euc_metric):\n",
    "        \n",
    "        self.n_clusters = n_cluster\n",
    "        self.min_cluster_size = min_cluster_size\n",
    "        self.metric = euc_metric #this should be a function that takes two 1-D arrays\n",
    "        self.r_min = []\n",
    "        \n",
    "    def fit(self, X):\n",
    "        \n",
    "    def find_peaks(self, r_min):\n",
    "        '''\n",
    "        INPUTS:\n",
    "            r_min = list of distances between points\n",
    "        OUTPUTS:\n",
    "            ind = index of points at which peaks occur\n",
    "        '''\n",
    "        return ind\n",
    "    \n",
    "    def find_initial_point(self, data_set):\n",
    "        \n",
    "        return labelled_point, unlabelled_points\n",
    "    \n",
    "    def \n",
    "    \n",
    "    def label_spreading(self, labelled, unlabelled):\n",
    "        '''\n",
    "        Applies iterative label spreading to the given points\n",
    "        INPUTS:\n",
    "            labelled_points = initial points that are already labelled\n",
    "                2D array with last column the points label\n",
    "            unlabelled_points = points in the data set that are not labelled\n",
    "                2D array with last column the points label (0)\n",
    "        OUTPUTS:\n",
    "            r_min = an 1D array which contains the R_min distance for eeach iteration\n",
    "        '''\n",
    "        featureColumns = self.data_set[0, :self.data_set.shape[1]] # Keep original index columns in DF\n",
    "        indices = np.arange(self.data_set.shape[0]) \n",
    "        oldIndex = np.arange(self.data_set.shape[0]) \n",
    "        df = df.reset_index(drop = False)\n",
    "\n",
    "        # lists for ordered output data\n",
    "        outD = []\n",
    "        outID = []\n",
    "        closeID = []\n",
    "    \n",
    "        # Continue to label data points until all data points are labelled\n",
    "        while len(unlabelled) > 0 :\n",
    "            # Calculate labelled to unlabelled distances matrix (D) \n",
    "            D = pairwise_distances(\n",
    "                self.data_set[labelled],\n",
    "                self.data_set[inlabelled])\n",
    "            # Find the minimum distance between a labelled and unlabelled point\n",
    "            # first the argument in the D matrix\n",
    "            (posL, posUnL) = np.unravel_index(D.argmin(), D.shape)\n",
    "            # then convert to an index ID in the data frame\n",
    "            # (The ordering will switch during iterations, more robust) \n",
    "            idUnL = unlabelled.iloc[posUnL].name\n",
    "            idL = labelled.iloc[posL].name\n",
    "            \n",
    "            # Switch label from 0 to new label\n",
    "            unlabelled.loc[idUnL, labelColumn] = labelled.loc[idL,labelColumn] \n",
    "            # move newly labelled point to labelled dataframe\n",
    "            labelled = labelled.append(unlabelled.loc[idUnL])\n",
    "            # drop from unlabelled data frame\n",
    "            unlabelled.drop(idUnL, inplace = True)\n",
    "            \n",
    "            # output the distance and id of the newly labelled point\n",
    "            outD.append(D.min())\n",
    "            outID.append(idUnL)\n",
    "            closeID.append(idL)"
   ]
  },
  {
   "cell_type": "code",
   "execution_count": 5,
   "metadata": {},
   "outputs": [
    {
     "data": {
      "text/plain": [
       "array([[3, 4, 5],\n",
       "       [6, 7, 8]])"
      ]
     },
     "execution_count": 5,
     "metadata": {},
     "output_type": "execute_result"
    }
   ],
   "source": [
    "a=np.array([[ 0,1,2],\n",
    "[ 3,4,5],\n",
    "[ 6,7,8]])\n",
    "row = [1,2]\n",
    "\n",
    "a[row]"
   ]
  },
  {
   "cell_type": "code",
   "execution_count": null,
   "metadata": {},
   "outputs": [],
   "source": []
  }
 ],
 "metadata": {
  "kernelspec": {
   "display_name": "Python 3",
   "language": "python",
   "name": "python3"
  },
  "language_info": {
   "codemirror_mode": {
    "name": "ipython",
    "version": 3
   },
   "file_extension": ".py",
   "mimetype": "text/x-python",
   "name": "python",
   "nbconvert_exporter": "python",
   "pygments_lexer": "ipython3",
   "version": "3.7.4"
  }
 },
 "nbformat": 4,
 "nbformat_minor": 4
}
