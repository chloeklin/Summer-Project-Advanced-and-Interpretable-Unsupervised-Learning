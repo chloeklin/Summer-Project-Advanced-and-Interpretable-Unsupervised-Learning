{
 "cells": [
  {
   "cell_type": "code",
   "execution_count": 3,
   "id": "314b72dd",
   "metadata": {},
   "outputs": [],
   "source": [
    "from testbook import testbook"
   ]
  },
  {
   "cell_type": "code",
   "execution_count": 4,
   "id": "fa74f6c6",
   "metadata": {},
   "outputs": [],
   "source": [
    "def func(a, b):\n",
    "   return a + b"
   ]
  },
  {
   "cell_type": "code",
   "execution_count": 8,
   "id": "6ec24d4b",
   "metadata": {},
   "outputs": [],
   "source": [
    "@testbook(r'C:\\Users\\katyl\\Desktop\\Summer-Project-Advanced-and-Interpretable-Unsupervised-Learning/ILS_Test.ipynb', execute=True)\n",
    "def test_func(tb):\n",
    "   func = tb.get(\"func\")\n",
    "\n",
    "   assert func(1, 2) == 3"
   ]
  },
  {
   "cell_type": "code",
   "execution_count": null,
   "id": "dd312251",
   "metadata": {},
   "outputs": [],
   "source": []
  }
 ],
 "metadata": {
  "kernelspec": {
   "display_name": "Python 3",
   "language": "python",
   "name": "python3"
  },
  "language_info": {
   "codemirror_mode": {
    "name": "ipython",
    "version": 3
   },
   "file_extension": ".py",
   "mimetype": "text/x-python",
   "name": "python",
   "nbconvert_exporter": "python",
   "pygments_lexer": "ipython3",
   "version": "3.8.8"
  }
 },
 "nbformat": 4,
 "nbformat_minor": 5
}
