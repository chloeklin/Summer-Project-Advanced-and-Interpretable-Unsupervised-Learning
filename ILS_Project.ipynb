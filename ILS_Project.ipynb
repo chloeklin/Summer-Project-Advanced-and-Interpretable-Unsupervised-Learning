{
 "cells": [
  {
   "cell_type": "code",
   "execution_count": 2,
   "metadata": {},
   "outputs": [],
   "source": [
    "import numpy as np\n",
    "import pandas as pd\n",
    "from scipy.signal import find_peaks_cwt\n",
    "from scipy.ndimage.filters import gaussian_filter1d\n",
    "from sklearn.metrics.pairwise import pairwise_distances"
   ]
  },
  {
   "cell_type": "code",
   "execution_count": 1,
   "execution_count": 167,
   "metadata": {},
   "outputs": [],
   "source": [
    "class ILS():\n",
    "    \n",
    "    def __init__(self, n_clusters = None, min_cluster_size = None, metric = 'euclidean'):\n",
    "        \n",
    "        self.n_clusters = n_clusters # need to calculate defaults based on data set input\n",
    "        self.min_cluster_size = min_cluster_size\n",
    "        self.metric = metric\n",
    "        \n",
    "    def fit(self, X):\n",
    "        \n",
    "        if self.min_cluster_size is None: # added just so that it will run, but need to decide on better default\n",
    "            self.min_cluster_size = int (0.1 * X.shape[0])\n",
    "        \n",
    "        self.data_set = np.concatenate((np.array(X), np.zeros((X.shape[0],1))), axis = 1)\n",
    "        self.rmin = []\n",
    "        \n",
    "        self.data_set[0, X.shape[1]] = 1 #initialise first label\n",
    "        unlabelled = [i + 1 for i in range(X.shape[0] - 1)] # step 1\n",
    "        label_spreading = self.label_spreading([0], unlabelled)\n",
    "        \n",
    "        new_centers, new_unlabelled = self.find_initial_points() # step 2\n",
    "        \n",
    "        label_spreading = self.label_spreading(new_centers, new_unlabelled) #step 3\n",
    "    \n",
    "    def find_minima(self):\n",
    "        '''\n",
    "        Written by Amanda Parker\n",
    "        Given the index of the peaks used for partitioning the dataset into cluster find the point of maximum density\n",
    "        OUTPUT:\n",
    "            index = list index of r_min plot \n",
    "        '''\n",
    "        if self.rmin == []:\n",
    "            raise Exception(\"ILS has not been run yet\")\n",
    "        \n",
    "        filtered = gaussian_filter1d(self.rmin, self.min_cluster_size) #smooth rmin\n",
    "        index = np.arange(len(filtered))\n",
    "\n",
    "        maxima = find_peaks_cwt(filtered, widths = len(filtered) * [self.min_cluster_size])\n",
    "        maxima = [i for i in maxima if i < len(filtered) - self.min_cluster_size]\n",
    "        maxima = [i for i in maxima if i > self.min_cluster_size] #removing peaks at the beginning and end\n",
    "        \n",
    "        betweenMax = np.split(filtered, maxima)\n",
    "        betweenIndex = np.split(index, maxima)\n",
    "\n",
    "        minVal = [min(i) for i in betweenMax]\n",
    "        subMinIndex = [np.argmin(i) for i in betweenMax]\n",
    "\n",
    "        minima = [betweenIndex[i][subMinIndex[i]] for i in range(len(subMinIndex))]\n",
    "        \n",
    "        self.n_clusters = len(minima)\n",
    "        \n",
    "        return minima\n",
    "    \n",
    "    def find_initial_points(self):\n",
    "        \n",
    "        labelled_points = self.find_minima()\n",
    "        print(labelled_points)\n",
    "        counter = 1\n",
    "        \n",
    "        for i in labelled_points: # assign labels as integers each with different label\n",
    "            self.data_set[i, -1] = counter\n",
    "            counter += 1\n",
    "        \n",
    "        unlabelled_points = [i for i in range(self.data_set.shape[0]) if not i in labelled_points]\n",
    "        print(unlabelled_points)\n",
    "        if len(unlabelled_points) + len(labelled_points) != self.data_set.shape[0]:\n",
    "            raise Exception(\"The number of labelled (0) and unlabelled (0) points does not sum to the total (100) in find_initial_points\")\n",
    "        return labelled_points, unlabelled_points\n",
    "    \n",
    "    def label_spreading(self, labelled_points, unlabelled_points):\n",
    "        '''\n",
    "        Written by Amanda Parker\n",
    "        Applies iterative label spreading to the given points\n",
    "        INPUTS:\n",
    "            labelled_points = initial points that are already labelled\n",
    "                2D array with last column the points label\n",
    "            unlabelled_points = points in the data set that are not labelled\n",
    "                2D array with last column the points label (0)\n",
    "        OUTPUTS:\n",
    "            r_min = an 1D array which contains the R_min distance for eeach iteration\n",
    "        '''\n",
    "        featureColumns = self.data_set[0, :self.data_set.shape[1]] # Keep original index columns in DF\n",
    "        indices = np.arange(self.data_set.shape[0]) \n",
    "        oldIndex = np.arange(self.data_set.shape[0]) \n",
    "       \n",
    "        labelled = self.data_set[labelled_points]\n",
    "        unlabelled = self.data_set[unlabelled_points]\n",
<<<<<<< HEAD
=======
    "      \n",
>>>>>>> f877947103194a496ad19f73d178010d92d79d1a
    "        labelColumn = self.data_set.shape[1]-1\n",
    "        # lists for ordered output data\n",
    "        outD = []\n",
    "        outID = []\n",
    "        closeID = []\n",
    "    \n",
    "        # Continue to label data points until all data points are labelled\n",
    "        while len(unlabelled) > 0 :\n",
    "            # Calculate labelled to unlabelled distances matrix (D) \n",
    "            D = pairwise_distances(\n",
    "                labelled[:, :-1],\n",
    "                unlabelled[:, :-1])\n",
    "            # Find the minimum distance between a labelled and unlabelled point\n",
    "            # first the argument in the D matrix\n",
    "            (posL, posUnL) = np.unravel_index(D.argmin(), D.shape)\n",
    "            self.rmin.append(D.min())\n",
    "            \n",
    "            # Switch label from 0 to new label\n",
    "            unlabelled[posUnL, labelColumn] = labelled[posL,labelColumn] \n",
    "            # move newly labelled point to labelled dataframe\n",
    "            labelled = np.concatenate((labelled, unlabelled[posUnL, :].reshape(1,unlabelled.shape[1])), axis=0)\n",
    "\n",
    "            # drop from unlabelled data frame\n",
    "            unlabelled = np.delete(unlabelled, posUnL, 0)\n",
    "            \n",
    "            # output the distance and id of the newly labelled point\n",
    "            outD.append(D.min())\n",
    "            outID.append(posUnL)\n",
    "            closeID.append(posL)\n",
    "            \n",
    "            \n",
    "        # Throw error if loose or duplicate points\n",
    "        if labelled.shape[0] + unlabelled.shape[0] != self.data_set.shape[0] : \n",
    "            raise Exception(\n",
    "                '''The number of labelled ({}) and unlabelled ({}) points does not sum to the total ({})'''.format( len(labelled), len(unlabelled),self.data_set.shape[0]) )\n",
    "        # Reodered index for consistancy\n",
    "        newIndex = oldIndex[outID]\n",
    "        # Column 1 = indices of point in orginal dataset, Column 2 = corresponding Rmin\n",
    "        orderLabelled = np.concatenate((np.array(newIndex).reshape((-1, 1)), np.array(outD).reshape((-1, 1))), axis=1) \n",
    "\n",
    "        # ID of point label was spread from\n",
    "        closest = np.concatenate((np.array(newIndex).reshape((-1, 1)), np.array(closeID).reshape((-1, 1))), axis=1)\n",
    "\n",
    "        newLabels = labelled[:,self.data_set.shape[1]-1]\n",
    "        # return\n",
    "        return newLabels, np.concatenate((orderLabelled, closest), axis=1)"
   ]
  },
  {
   "cell_type": "code",
   "execution_count": 168,
   "metadata": {},
   "outputs": [
    {
     "name": "stdout",
     "output_type": "stream",
     "text": [
      "[0, 78]\n",
      "[1, 2, 3, 4, 5, 6, 7, 8, 9, 10, 11, 12, 13, 14, 15, 16, 17, 18, 19, 20, 21, 22, 23, 24, 25, 26, 27, 28, 29, 30, 31, 32, 33, 34, 35, 36, 37, 38, 39, 40, 41, 42, 43, 44, 45, 46, 47, 48, 49, 50, 51, 52, 53, 54, 55, 56, 57, 58, 59, 60, 61, 62, 63, 64, 65, 66, 67, 68, 69, 70, 71, 72, 73, 74, 75, 76, 77, 79, 80, 81, 82, 83, 84, 85, 86, 87, 88, 89, 90, 91, 92, 93, 94, 95, 96, 97, 98, 99]\n"
     ]
    }
   ],
   "source": [
    "test_data = np.random.normal(2, 0.1, (50, 2))\n",
    "a = np.random.normal(-2, 0.1, (50, 2))\n",
    "test_data = np.concatenate((test_data, a), axis = 0)\n",
    "\n",
    "testILS = ILS()\n",
    "testILS.fit(test_data)"
   ]
  },
  {
   "cell_type": "code",
   "execution_count": 170,
   "metadata": {},
   "outputs": [
    {
     "data": {
      "text/plain": [
       "[<matplotlib.lines.Line2D at 0x1e6f1e4e550>]"
      ]
     },
     "execution_count": 170,
     "metadata": {},
     "output_type": "execute_result"
    },
    {
     "data": {
      "image/png": "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\n",
      "text/plain": [
       "<Figure size 432x288 with 1 Axes>"
      ]
     },
     "metadata": {
      "needs_background": "light"
     },
     "output_type": "display_data"
    }
   ],
   "source": [
    "import matplotlib.pyplot as plt\n",
    "\n",
    "plt.plot(testILS.rmin)"
   ]
  },
  {
   "cell_type": "code",
   "execution_count": 172,
   "metadata": {},
   "outputs": [
    {
     "data": {
      "text/plain": [
       "<matplotlib.collections.PathCollection at 0x1e6f1fc07f0>"
      ]
     },
     "execution_count": 172,
     "metadata": {},
     "output_type": "execute_result"
    },
    {
     "data": {
      "image/png": "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\n",
      "text/plain": [
       "<Figure size 432x288 with 1 Axes>"
      ]
     },
     "metadata": {
      "needs_background": "light"
     },
     "output_type": "display_data"
    }
   ],
   "source": [
    "plt.scatter(test_data[:, 0], test_data[:, 1])"
   ]
  },
  {
   "cell_type": "code",
   "execution_count": null,
   "metadata": {},
   "outputs": [],
   "source": []
  }
 ],
 "metadata": {
  "kernelspec": {
   "display_name": "Python 3 (ipykernel)",
   "language": "python",
   "name": "python3"
  },
  "language_info": {
   "codemirror_mode": {
    "name": "ipython",
    "version": 3
   },
   "file_extension": ".py",
   "mimetype": "text/x-python",
   "name": "python",
   "nbconvert_exporter": "python",
   "pygments_lexer": "ipython3",
   "version": "3.9.7"
  }
 },
 "nbformat": 4,
 "nbformat_minor": 4
}
