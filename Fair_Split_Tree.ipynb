{
 "cells": [
  {
   "cell_type": "code",
   "execution_count": 4,
   "id": "678e131e-d29b-4cc6-bd06-74c2d0a69bc2",
   "metadata": {},
   "outputs": [],
   "source": [
    "from sklearn.datasets import make_blobs\n",
    "import matplotlib.pyplot as plt\n",
    "import sys\n",
    "sys.path.append(r'\\Users\\Mochi\\AppData\\Local\\Programs\\Python\\Python310\\Lib\\site-packages')\n",
    "import quads\n",
    "import numpy as np\n",
    "import random"
   ]
  },
  {
   "cell_type": "code",
   "execution_count": 5,
   "id": "224045ee-9aa0-4791-acdf-dca081faf1eb",
   "metadata": {},
   "outputs": [
    {
     "data": {
      "image/png": "[encoded data removed]",
      "text/plain": [
       "<Figure size 432x288 with 1 Axes>"
      ]
     },
     "metadata": {
      "needs_background": "light"
     },
     "output_type": "display_data"
    }
   ],
   "source": [
    "X, y = make_blobs(n_samples=20, centers=2, n_features=2,random_state=90)\n",
    "plt.scatter(X[:,0], X[:,1]);"
   ]
  },
  {
   "cell_type": "code",
   "execution_count": 6,
   "id": "2ab2a567-c7bf-4ac8-ad26-1842e0beef03",
   "metadata": {},
   "outputs": [],
   "source": [
    "class Node:\n",
    "    def __init__(self, node_id, dataset):\n",
    "        \"\"\"\n",
    "        dataset : np.array\n",
    "        \"\"\"\n",
    "        self.node_id = node_id\n",
    "        self.dataset = dataset\n",
    "        self.points = dataset[:,:-1]\n",
    "        self.clusters = dataset[:,-1]\n",
    "        self.parent = None\n",
    "        self.left = None\n",
    "        self.right = None\n",
    "    \n",
    "    def __repr__(self):\n",
    "        return 'Node {}: {}'.format(str(self.node_id), str(self.dataset))\n",
    "\n",
    "       \n",
    "    def add_left(self, left_children, current_id):\n",
    "        left = Node(current_id+1, left_children)\n",
    "        left.parent = self\n",
    "        self.left = left\n",
    "        \n",
    "    def add_right(self, right_children, current_id):\n",
    "        right = Node(current_id+2, right_children)\n",
    "        right.parent = self\n",
    "        self.right = right"
   ]
  },
  {
   "cell_type": "code",
   "execution_count": 16,
   "id": "9023320d-d8e1-45f2-a44d-e31579d164ea",
   "metadata": {},
   "outputs": [],
   "source": [
    "class Fair_Split_Tree:\n",
    "    \"\"\"A node contained in a fair split tree.\n",
    "\n",
    "    \"\"\"\n",
    "\n",
    "    def __init__(self, dataset, k):\n",
    "        \"\"\"\n",
    "        dataset : np.array\n",
    "        \"\"\"\n",
    "        self.dataset = dataset\n",
    "        self.root = Node(0, dataset)\n",
    "        self.nodes = []\n",
    "        self.k = k\n",
    "        \n",
    "        self.nodes.append(self.root)\n",
    "      \n",
    "    def pick_random(self, dataset):\n",
    "        print(dataset.shape)\n",
    "        same = True\n",
    "        labels = dataset[:,-1]\n",
    "        if (labels == labels[0]).all():\n",
    "            while same:\n",
    "                \n",
    "                points = np.array(random.choices(dataset, k=2))\n",
    "                print(\"found points: \", points)\n",
    "                if not (points[0][:-1] == points[1][:-1]).all():\n",
    "                    same = False\n",
    "        else:\n",
    "            while same:\n",
    "                \n",
    "                points = np.array(random.choices(dataset, k=2))\n",
    "                print(\"found points: \", points)\n",
    "                if not (points[0][:-1] == points[1][:-1]).all() and not points[0][-1] == points[1][-1] :\n",
    "                    same = False\n",
    "        new_points = np.array([points[0][:-1],points[1][:-1]])\n",
    "        print(\"new points\")\n",
    "        print(new_points)\n",
    "        return new_points\n",
    "    def compute_plane(self, points):\n",
    "        \"\"\"\n",
    "            v = direction vector\n",
    "            w = unit vector\n",
    "            mid = midpoint\n",
    "        \"\"\"\n",
    "        \n",
    "        v = points[0]-points[1]\n",
    "        w = v / np.linalg.norm(v)\n",
    "        mid = np.sum(points, axis=0)/2\n",
    "        return w, mid\n",
    "    def compute_bounding_box(self, points):\n",
    "        \n",
    "    \n",
    "    def split_tree(self, node):\n",
    "        points = self.pick_random(node.dataset)\n",
    "        w, mid = self.compute_plane(points)\n",
    "        left = []\n",
    "        right = []\n",
    "        for i in range(node.points.shape[0]):\n",
    "            x = node.points[i]\n",
    "            x = x - mid\n",
    "            if np.dot(w,x) > 0:\n",
    "                left.append(node.dataset[i])\n",
    "            elif np.dot(w,x) < 0:\n",
    "                right.append(node.dataset[i])\n",
    "        if len(left)+len(right) != node.points.shape[0]:\n",
    "            print(\"error\")\n",
    "        \n",
    "        #plots out each split\n",
    "        print('Node', len(self.nodes), 'and', len(self.nodes)+1)\n",
    "        plt.scatter(np.array(left)[:,0], np.array(left)[:,1], c='blue');\n",
    "        plt.scatter(np.array(right)[:,0], np.array(right)[:,1], c='red');\n",
    "        plt.show()\n",
    "        \n",
    "        \n",
    "        node.add_left(np.array(left), len(self.nodes)-1)\n",
    "        node.add_right(np.array(right), len(self.nodes)-1)\n",
    "        self.nodes.append(node.left)\n",
    "        self.nodes.append(node.right)\n",
    "        \n",
    "        \n",
    "        if len(left) > self.k:\n",
    "            self.split_tree(node.left)\n",
    "        if len(right) > self.k:\n",
    "            self.split_tree(node.right)\n",
    "\n",
    "    def build_tree(self):       \n",
    "        if self.dataset.shape[0] == 1:\n",
    "            return self\n",
    "        else:\n",
    "            node = self.root\n",
    "            self.split_tree(node)\n",
    "            return self\n",
    "         "
   ]
  },
  {
   "cell_type": "code",
   "execution_count": 8,
   "id": "081fb5c1-1e18-45fb-b186-97969524232a",
   "metadata": {},
   "outputs": [],
   "source": [
    "y = np.reshape(y, (-1, 1))"
   ]
  },
  {
   "cell_type": "code",
   "execution_count": 9,
   "id": "e4012590-f120-49a2-8835-1a7ce0310ba0",
   "metadata": {},
   "outputs": [],
   "source": [
    "newX = np.append(X,y, axis=1)"
   ]
  },
  {
   "cell_type": "code",
   "execution_count": 17,
   "id": "3766c752-d566-40b2-9eeb-cea3e0a66005",
   "metadata": {},
   "outputs": [],
   "source": [
    "fsp = Fair_Split_Tree(newX, 4)"
   ]
  },
  {
   "cell_type": "code",
   "execution_count": 18,
   "id": "e2990ff3-741d-48a2-97e9-5df09ce6d48d",
   "metadata": {},
   "outputs": [
    {
     "name": "stdout",
     "output_type": "stream",
     "text": [
      "(20, 3)\n",
      "found points:  [[ 8.58616299  9.91369418  1.        ]\n",
      " [-5.08198438 -5.59910644  0.        ]]\n",
      "new points\n",
      "[[ 8.58616299  9.91369418]\n",
      " [-5.08198438 -5.59910644]]\n",
      "Node 1 and 2\n"
     ]
    },
    {
     "data": {
      "image/png": "[encoded data removed]",
      "text/plain": [
       "<Figure size 432x288 with 1 Axes>"
      ]
     },
     "metadata": {
      "needs_background": "light"
     },
     "output_type": "display_data"
    },
    {
     "name": "stdout",
     "output_type": "stream",
     "text": [
      "(10, 3)\n",
      "found points:  [[10.12475558  9.30632609  1.        ]\n",
      " [ 8.58616299  9.91369418  1.        ]]\n",
      "new points\n",
      "[[10.12475558  9.30632609]\n",
      " [ 8.58616299  9.91369418]]\n",
      "Node 3 and 4\n"
     ]
    },
    {
     "data": {
      "image/png": "[encoded data removed]",
      "text/plain": [
       "<Figure size 432x288 with 1 Axes>"
      ]
     },
     "metadata": {
      "needs_background": "light"
     },
     "output_type": "display_data"
    },
    {
     "name": "stdout",
     "output_type": "stream",
     "text": [
      "(7, 3)\n",
      "found points:  [[10.12475558  9.30632609  1.        ]\n",
      " [ 9.5647992   9.31835533  1.        ]]\n",
      "new points\n",
      "[[10.12475558  9.30632609]\n",
      " [ 9.5647992   9.31835533]]\n",
      "Node 5 and 6\n"
     ]
    },
    {
     "data": {
      "image/png": "[encoded data removed]",
      "text/plain": [
       "<Figure size 432x288 with 1 Axes>"
      ]
     },
     "metadata": {
      "needs_background": "light"
     },
     "output_type": "display_data"
    },
    {
     "name": "stdout",
     "output_type": "stream",
     "text": [
      "(5, 3)\n",
      "found points:  [[10.67909231  9.58337139  1.        ]\n",
      " [10.12475558  9.30632609  1.        ]]\n",
      "new points\n",
      "[[10.67909231  9.58337139]\n",
      " [10.12475558  9.30632609]]\n",
      "Node 7 and 8\n"
     ]
    },
    {
     "data": {
      "image/png": "[encoded data removed]",
      "text/plain": [
       "<Figure size 432x288 with 1 Axes>"
      ]
     },
     "metadata": {
      "needs_background": "light"
     },
     "output_type": "display_data"
    },
    {
     "name": "stdout",
     "output_type": "stream",
     "text": [
      "(10, 3)\n",
      "found points:  [[-5.85684055 -6.06433804  0.        ]\n",
      " [-8.19932446 -5.28656615  0.        ]]\n",
      "new points\n",
      "[[-5.85684055 -6.06433804]\n",
      " [-8.19932446 -5.28656615]]\n",
      "Node 9 and 10\n"
     ]
    },
    {
     "data": {
      "image/png": "[encoded data removed]",
      "text/plain": [
       "<Figure size 432x288 with 1 Axes>"
      ]
     },
     "metadata": {
      "needs_background": "light"
     },
     "output_type": "display_data"
    },
    {
     "name": "stdout",
     "output_type": "stream",
     "text": [
      "(8, 3)\n",
      "found points:  [[-7.53031496 -7.64551443  0.        ]\n",
      " [-7.53031496 -7.64551443  0.        ]]\n",
      "found points:  [[-5.85684055 -6.06433804  0.        ]\n",
      " [-6.92504061 -5.53672256  0.        ]]\n",
      "new points\n",
      "[[-5.85684055 -6.06433804]\n",
      " [-6.92504061 -5.53672256]]\n",
      "Node 11 and 12\n"
     ]
    },
    {
     "data": {
      "image/png": "[encoded data removed]",
      "text/plain": [
       "<Figure size 432x288 with 1 Axes>"
      ]
     },
     "metadata": {
      "needs_background": "light"
     },
     "output_type": "display_data"
    },
    {
     "name": "stdout",
     "output_type": "stream",
     "text": [
      "(6, 3)\n",
      "found points:  [[-6.21796013 -8.17184853  0.        ]\n",
      " [-5.74880652 -8.21218165  0.        ]]\n",
      "new points\n",
      "[[-6.21796013 -8.17184853]\n",
      " [-5.74880652 -8.21218165]]\n",
      "Node 13 and 14\n"
     ]
    },
    {
     "data": {
      "image/png": "[encoded data removed]",
      "text/plain": [
       "<Figure size 432x288 with 1 Axes>"
      ]
     },
     "metadata": {
      "needs_background": "light"
     },
     "output_type": "display_data"
    }
   ],
   "source": [
    "tree = fsp.build_tree()\n",
    "    "
   ]
  },
  {
   "cell_type": "code",
   "execution_count": null,
   "id": "4d4d913b-eb38-4b51-a8a5-935cf65e69cb",
   "metadata": {},
   "outputs": [],
   "source": []
  }
 ],
 "metadata": {
  "kernelspec": {
   "display_name": "Python 3 (ipykernel)",
   "language": "python",
   "name": "python3"
  },
  "language_info": {
   "codemirror_mode": {
    "name": "ipython",
    "version": 3
   },
   "file_extension": ".py",
   "mimetype": "text/x-python",
   "name": "python",
   "nbconvert_exporter": "python",
   "pygments_lexer": "ipython3",
   "version": "3.9.7"
  }
 },
 "nbformat": 4,
 "nbformat_minor": 5
}
